{
 "cells": [
  {
   "cell_type": "markdown",
   "metadata": {},
   "source": [
    "# Problem Statement"
   ]
  },
  {
   "cell_type": "markdown",
   "metadata": {},
   "source": [
    "Subsidy Inc. delivers subsidies to individuals based on their income, Accurate income data is one of the hardest piece of data to obtain accross the world, Subsidy Inc. has obtained a large data set of authenticated data on individual income,demographic parameters, and a few financial parameters"
   ]
  },
  {
   "cell_type": "markdown",
   "metadata": {},
   "source": [
    "Subsidy Inc.Wishes us to : Develop an Income Classifier System for Individuals"
   ]
  },
  {
   "cell_type": "code",
   "execution_count": 1,
   "metadata": {},
   "outputs": [],
   "source": [
    "# Importing necessary packages\n",
    "import pandas as pd\n",
    "import numpy as np\n",
    "import seaborn as sns\n",
    "from sklearn.model_selection import train_test_split\n",
    "from sklearn.linear_model import LogisticRegression\n",
    "from sklearn.metrics import accuracy_score,confusion_matrix"
   ]
  },
  {
   "cell_type": "code",
   "execution_count": 2,
   "metadata": {},
   "outputs": [
    {
     "data": {
      "text/html": [
       "<div>\n",
       "<style scoped>\n",
       "    .dataframe tbody tr th:only-of-type {\n",
       "        vertical-align: middle;\n",
       "    }\n",
       "\n",
       "    .dataframe tbody tr th {\n",
       "        vertical-align: top;\n",
       "    }\n",
       "\n",
       "    .dataframe thead th {\n",
       "        text-align: right;\n",
       "    }\n",
       "</style>\n",
       "<table border=\"1\" class=\"dataframe\">\n",
       "  <thead>\n",
       "    <tr style=\"text-align: right;\">\n",
       "      <th></th>\n",
       "      <th>age</th>\n",
       "      <th>JobType</th>\n",
       "      <th>EdType</th>\n",
       "      <th>maritalstatus</th>\n",
       "      <th>occupation</th>\n",
       "      <th>relationship</th>\n",
       "      <th>race</th>\n",
       "      <th>gender</th>\n",
       "      <th>capitalgain</th>\n",
       "      <th>capitalloss</th>\n",
       "      <th>hoursperweek</th>\n",
       "      <th>nativecountry</th>\n",
       "      <th>SalStat</th>\n",
       "    </tr>\n",
       "  </thead>\n",
       "  <tbody>\n",
       "    <tr>\n",
       "      <th>0</th>\n",
       "      <td>45</td>\n",
       "      <td>Private</td>\n",
       "      <td>HS-grad</td>\n",
       "      <td>Divorced</td>\n",
       "      <td>Adm-clerical</td>\n",
       "      <td>Not-in-family</td>\n",
       "      <td>White</td>\n",
       "      <td>Female</td>\n",
       "      <td>0</td>\n",
       "      <td>0</td>\n",
       "      <td>28</td>\n",
       "      <td>United-States</td>\n",
       "      <td>less than or equal to 50,000</td>\n",
       "    </tr>\n",
       "    <tr>\n",
       "      <th>1</th>\n",
       "      <td>24</td>\n",
       "      <td>Federal-gov</td>\n",
       "      <td>HS-grad</td>\n",
       "      <td>Never-married</td>\n",
       "      <td>Armed-Forces</td>\n",
       "      <td>Own-child</td>\n",
       "      <td>White</td>\n",
       "      <td>Male</td>\n",
       "      <td>0</td>\n",
       "      <td>0</td>\n",
       "      <td>40</td>\n",
       "      <td>United-States</td>\n",
       "      <td>less than or equal to 50,000</td>\n",
       "    </tr>\n",
       "    <tr>\n",
       "      <th>2</th>\n",
       "      <td>44</td>\n",
       "      <td>Private</td>\n",
       "      <td>Some-college</td>\n",
       "      <td>Married-civ-spouse</td>\n",
       "      <td>Prof-specialty</td>\n",
       "      <td>Husband</td>\n",
       "      <td>White</td>\n",
       "      <td>Male</td>\n",
       "      <td>0</td>\n",
       "      <td>0</td>\n",
       "      <td>40</td>\n",
       "      <td>United-States</td>\n",
       "      <td>greater than 50,000</td>\n",
       "    </tr>\n",
       "    <tr>\n",
       "      <th>3</th>\n",
       "      <td>27</td>\n",
       "      <td>Private</td>\n",
       "      <td>9th</td>\n",
       "      <td>Never-married</td>\n",
       "      <td>Craft-repair</td>\n",
       "      <td>Other-relative</td>\n",
       "      <td>White</td>\n",
       "      <td>Male</td>\n",
       "      <td>0</td>\n",
       "      <td>0</td>\n",
       "      <td>40</td>\n",
       "      <td>Mexico</td>\n",
       "      <td>less than or equal to 50,000</td>\n",
       "    </tr>\n",
       "    <tr>\n",
       "      <th>4</th>\n",
       "      <td>20</td>\n",
       "      <td>Private</td>\n",
       "      <td>Some-college</td>\n",
       "      <td>Never-married</td>\n",
       "      <td>Sales</td>\n",
       "      <td>Not-in-family</td>\n",
       "      <td>White</td>\n",
       "      <td>Male</td>\n",
       "      <td>0</td>\n",
       "      <td>0</td>\n",
       "      <td>35</td>\n",
       "      <td>United-States</td>\n",
       "      <td>less than or equal to 50,000</td>\n",
       "    </tr>\n",
       "  </tbody>\n",
       "</table>\n",
       "</div>"
      ],
      "text/plain": [
       "   age       JobType         EdType        maritalstatus       occupation  \\\n",
       "0   45       Private        HS-grad             Divorced     Adm-clerical   \n",
       "1   24   Federal-gov        HS-grad        Never-married     Armed-Forces   \n",
       "2   44       Private   Some-college   Married-civ-spouse   Prof-specialty   \n",
       "3   27       Private            9th        Never-married     Craft-repair   \n",
       "4   20       Private   Some-college        Never-married            Sales   \n",
       "\n",
       "      relationship    race   gender  capitalgain  capitalloss  hoursperweek  \\\n",
       "0    Not-in-family   White   Female            0            0            28   \n",
       "1        Own-child   White     Male            0            0            40   \n",
       "2          Husband   White     Male            0            0            40   \n",
       "3   Other-relative   White     Male            0            0            40   \n",
       "4    Not-in-family   White     Male            0            0            35   \n",
       "\n",
       "    nativecountry                        SalStat  \n",
       "0   United-States   less than or equal to 50,000  \n",
       "1   United-States   less than or equal to 50,000  \n",
       "2   United-States            greater than 50,000  \n",
       "3          Mexico   less than or equal to 50,000  \n",
       "4   United-States   less than or equal to 50,000  "
      ]
     },
     "execution_count": 2,
     "metadata": {},
     "output_type": "execute_result"
    }
   ],
   "source": [
    "data_income=pd.read_csv('income.csv') # Importing data\n",
    "data=data_income.copy() # copying original data\n",
    "data.head(5) # displaying data set"
   ]
  },
  {
   "cell_type": "markdown",
   "metadata": {},
   "source": [
    "# Getting to know  the Data"
   ]
  },
  {
   "cell_type": "code",
   "execution_count": 3,
   "metadata": {},
   "outputs": [
    {
     "name": "stdout",
     "output_type": "stream",
     "text": [
      "<class 'pandas.core.frame.DataFrame'>\n",
      "RangeIndex: 31978 entries, 0 to 31977\n",
      "Data columns (total 13 columns):\n",
      "age              31978 non-null int64\n",
      "JobType          31978 non-null object\n",
      "EdType           31978 non-null object\n",
      "maritalstatus    31978 non-null object\n",
      "occupation       31978 non-null object\n",
      "relationship     31978 non-null object\n",
      "race             31978 non-null object\n",
      "gender           31978 non-null object\n",
      "capitalgain      31978 non-null int64\n",
      "capitalloss      31978 non-null int64\n",
      "hoursperweek     31978 non-null int64\n",
      "nativecountry    31978 non-null object\n",
      "SalStat          31978 non-null object\n",
      "dtypes: int64(4), object(9)\n",
      "memory usage: 3.2+ MB\n"
     ]
    }
   ],
   "source": [
    "data.info() # To check variables data type"
   ]
  },
  {
   "cell_type": "code",
   "execution_count": 4,
   "metadata": {},
   "outputs": [
    {
     "data": {
      "text/plain": [
       "age              0\n",
       "JobType          0\n",
       "EdType           0\n",
       "maritalstatus    0\n",
       "occupation       0\n",
       "relationship     0\n",
       "race             0\n",
       "gender           0\n",
       "capitalgain      0\n",
       "capitalloss      0\n",
       "hoursperweek     0\n",
       "nativecountry    0\n",
       "SalStat          0\n",
       "dtype: int64"
      ]
     },
     "execution_count": 4,
     "metadata": {},
     "output_type": "execute_result"
    }
   ],
   "source": [
    "data.isnull().sum() # Checking for missing values"
   ]
  },
  {
   "cell_type": "markdown",
   "metadata": {},
   "source": [
    "**_No missing values_**"
   ]
  },
  {
   "cell_type": "code",
   "execution_count": 5,
   "metadata": {},
   "outputs": [
    {
     "data": {
      "text/html": [
       "<div>\n",
       "<style scoped>\n",
       "    .dataframe tbody tr th:only-of-type {\n",
       "        vertical-align: middle;\n",
       "    }\n",
       "\n",
       "    .dataframe tbody tr th {\n",
       "        vertical-align: top;\n",
       "    }\n",
       "\n",
       "    .dataframe thead th {\n",
       "        text-align: right;\n",
       "    }\n",
       "</style>\n",
       "<table border=\"1\" class=\"dataframe\">\n",
       "  <thead>\n",
       "    <tr style=\"text-align: right;\">\n",
       "      <th></th>\n",
       "      <th>age</th>\n",
       "      <th>capitalgain</th>\n",
       "      <th>capitalloss</th>\n",
       "      <th>hoursperweek</th>\n",
       "    </tr>\n",
       "  </thead>\n",
       "  <tbody>\n",
       "    <tr>\n",
       "      <th>count</th>\n",
       "      <td>31978.000000</td>\n",
       "      <td>31978.000000</td>\n",
       "      <td>31978.000000</td>\n",
       "      <td>31978.000000</td>\n",
       "    </tr>\n",
       "    <tr>\n",
       "      <th>mean</th>\n",
       "      <td>38.579023</td>\n",
       "      <td>1064.360623</td>\n",
       "      <td>86.739352</td>\n",
       "      <td>40.417850</td>\n",
       "    </tr>\n",
       "    <tr>\n",
       "      <th>std</th>\n",
       "      <td>13.662085</td>\n",
       "      <td>7298.596271</td>\n",
       "      <td>401.594301</td>\n",
       "      <td>12.345285</td>\n",
       "    </tr>\n",
       "    <tr>\n",
       "      <th>min</th>\n",
       "      <td>17.000000</td>\n",
       "      <td>0.000000</td>\n",
       "      <td>0.000000</td>\n",
       "      <td>1.000000</td>\n",
       "    </tr>\n",
       "    <tr>\n",
       "      <th>25%</th>\n",
       "      <td>28.000000</td>\n",
       "      <td>0.000000</td>\n",
       "      <td>0.000000</td>\n",
       "      <td>40.000000</td>\n",
       "    </tr>\n",
       "    <tr>\n",
       "      <th>50%</th>\n",
       "      <td>37.000000</td>\n",
       "      <td>0.000000</td>\n",
       "      <td>0.000000</td>\n",
       "      <td>40.000000</td>\n",
       "    </tr>\n",
       "    <tr>\n",
       "      <th>75%</th>\n",
       "      <td>48.000000</td>\n",
       "      <td>0.000000</td>\n",
       "      <td>0.000000</td>\n",
       "      <td>45.000000</td>\n",
       "    </tr>\n",
       "    <tr>\n",
       "      <th>max</th>\n",
       "      <td>90.000000</td>\n",
       "      <td>99999.000000</td>\n",
       "      <td>4356.000000</td>\n",
       "      <td>99.000000</td>\n",
       "    </tr>\n",
       "  </tbody>\n",
       "</table>\n",
       "</div>"
      ],
      "text/plain": [
       "                age   capitalgain   capitalloss  hoursperweek\n",
       "count  31978.000000  31978.000000  31978.000000  31978.000000\n",
       "mean      38.579023   1064.360623     86.739352     40.417850\n",
       "std       13.662085   7298.596271    401.594301     12.345285\n",
       "min       17.000000      0.000000      0.000000      1.000000\n",
       "25%       28.000000      0.000000      0.000000     40.000000\n",
       "50%       37.000000      0.000000      0.000000     40.000000\n",
       "75%       48.000000      0.000000      0.000000     45.000000\n",
       "max       90.000000  99999.000000   4356.000000     99.000000"
      ]
     },
     "execution_count": 5,
     "metadata": {},
     "output_type": "execute_result"
    }
   ],
   "source": [
    "data.describe() # summary of numerical variable"
   ]
  },
  {
   "cell_type": "code",
   "execution_count": 6,
   "metadata": {},
   "outputs": [
    {
     "data": {
      "text/html": [
       "<div>\n",
       "<style scoped>\n",
       "    .dataframe tbody tr th:only-of-type {\n",
       "        vertical-align: middle;\n",
       "    }\n",
       "\n",
       "    .dataframe tbody tr th {\n",
       "        vertical-align: top;\n",
       "    }\n",
       "\n",
       "    .dataframe thead th {\n",
       "        text-align: right;\n",
       "    }\n",
       "</style>\n",
       "<table border=\"1\" class=\"dataframe\">\n",
       "  <thead>\n",
       "    <tr style=\"text-align: right;\">\n",
       "      <th></th>\n",
       "      <th>JobType</th>\n",
       "      <th>EdType</th>\n",
       "      <th>maritalstatus</th>\n",
       "      <th>occupation</th>\n",
       "      <th>relationship</th>\n",
       "      <th>race</th>\n",
       "      <th>gender</th>\n",
       "      <th>nativecountry</th>\n",
       "      <th>SalStat</th>\n",
       "    </tr>\n",
       "  </thead>\n",
       "  <tbody>\n",
       "    <tr>\n",
       "      <th>count</th>\n",
       "      <td>31978</td>\n",
       "      <td>31978</td>\n",
       "      <td>31978</td>\n",
       "      <td>31978</td>\n",
       "      <td>31978</td>\n",
       "      <td>31978</td>\n",
       "      <td>31978</td>\n",
       "      <td>31978</td>\n",
       "      <td>31978</td>\n",
       "    </tr>\n",
       "    <tr>\n",
       "      <th>unique</th>\n",
       "      <td>9</td>\n",
       "      <td>16</td>\n",
       "      <td>7</td>\n",
       "      <td>15</td>\n",
       "      <td>6</td>\n",
       "      <td>5</td>\n",
       "      <td>2</td>\n",
       "      <td>41</td>\n",
       "      <td>2</td>\n",
       "    </tr>\n",
       "    <tr>\n",
       "      <th>top</th>\n",
       "      <td>Private</td>\n",
       "      <td>HS-grad</td>\n",
       "      <td>Married-civ-spouse</td>\n",
       "      <td>Prof-specialty</td>\n",
       "      <td>Husband</td>\n",
       "      <td>White</td>\n",
       "      <td>Male</td>\n",
       "      <td>United-States</td>\n",
       "      <td>less than or equal to 50,000</td>\n",
       "    </tr>\n",
       "    <tr>\n",
       "      <th>freq</th>\n",
       "      <td>22286</td>\n",
       "      <td>10368</td>\n",
       "      <td>14692</td>\n",
       "      <td>4038</td>\n",
       "      <td>12947</td>\n",
       "      <td>27430</td>\n",
       "      <td>21370</td>\n",
       "      <td>29170</td>\n",
       "      <td>24283</td>\n",
       "    </tr>\n",
       "  </tbody>\n",
       "</table>\n",
       "</div>"
      ],
      "text/plain": [
       "         JobType    EdType        maritalstatus       occupation relationship  \\\n",
       "count      31978     31978                31978            31978        31978   \n",
       "unique         9        16                    7               15            6   \n",
       "top      Private   HS-grad   Married-civ-spouse   Prof-specialty      Husband   \n",
       "freq       22286     10368                14692             4038        12947   \n",
       "\n",
       "          race gender   nativecountry                        SalStat  \n",
       "count    31978  31978           31978                          31978  \n",
       "unique       5      2              41                              2  \n",
       "top      White   Male   United-States   less than or equal to 50,000  \n",
       "freq     27430  21370           29170                          24283  "
      ]
     },
     "execution_count": 6,
     "metadata": {},
     "output_type": "execute_result"
    }
   ],
   "source": [
    "data.describe(include='O') # Summary of categorical variable"
   ]
  },
  {
   "cell_type": "code",
   "execution_count": 7,
   "metadata": {},
   "outputs": [
    {
     "data": {
      "text/plain": [
       " Private             22286\n",
       " Self-emp-not-inc     2499\n",
       " Local-gov            2067\n",
       " ?                    1809\n",
       " State-gov            1279\n",
       " Self-emp-inc         1074\n",
       " Federal-gov           943\n",
       " Without-pay            14\n",
       " Never-worked            7\n",
       "Name: JobType, dtype: int64"
      ]
     },
     "execution_count": 7,
     "metadata": {},
     "output_type": "execute_result"
    }
   ],
   "source": [
    "data['JobType'].value_counts() # Frequency of JobType"
   ]
  },
  {
   "cell_type": "code",
   "execution_count": 8,
   "metadata": {},
   "outputs": [
    {
     "data": {
      "text/plain": [
       " Prof-specialty       4038\n",
       " Craft-repair         4030\n",
       " Exec-managerial      3992\n",
       " Adm-clerical         3721\n",
       " Sales                3584\n",
       " Other-service        3212\n",
       " Machine-op-inspct    1966\n",
       " ?                    1816\n",
       " Transport-moving     1572\n",
       " Handlers-cleaners    1350\n",
       " Farming-fishing       989\n",
       " Tech-support          912\n",
       " Protective-serv       644\n",
       " Priv-house-serv       143\n",
       " Armed-Forces            9\n",
       "Name: occupation, dtype: int64"
      ]
     },
     "execution_count": 8,
     "metadata": {},
     "output_type": "execute_result"
    }
   ],
   "source": [
    "data['occupation'].value_counts() # Frequency of occupation"
   ]
  },
  {
   "cell_type": "code",
   "execution_count": 9,
   "metadata": {},
   "outputs": [
    {
     "data": {
      "text/plain": [
       "array([' ?', ' Federal-gov', ' Local-gov', ' Never-worked', ' Private',\n",
       "       ' Self-emp-inc', ' Self-emp-not-inc', ' State-gov', ' Without-pay'],\n",
       "      dtype=object)"
      ]
     },
     "execution_count": 9,
     "metadata": {},
     "output_type": "execute_result"
    }
   ],
   "source": [
    "# checking for unique class\n",
    "np.unique(data['JobType'])"
   ]
  },
  {
   "cell_type": "code",
   "execution_count": 10,
   "metadata": {},
   "outputs": [
    {
     "data": {
      "text/plain": [
       "array([' ?', ' Adm-clerical', ' Armed-Forces', ' Craft-repair',\n",
       "       ' Exec-managerial', ' Farming-fishing', ' Handlers-cleaners',\n",
       "       ' Machine-op-inspct', ' Other-service', ' Priv-house-serv',\n",
       "       ' Prof-specialty', ' Protective-serv', ' Sales', ' Tech-support',\n",
       "       ' Transport-moving'], dtype=object)"
      ]
     },
     "execution_count": 10,
     "metadata": {},
     "output_type": "execute_result"
    }
   ],
   "source": [
    "np.unique(data['occupation'])"
   ]
  },
  {
   "cell_type": "markdown",
   "metadata": {},
   "source": [
    "**_There exists   '?'   instead of nan_**"
   ]
  },
  {
   "cell_type": "code",
   "execution_count": 11,
   "metadata": {},
   "outputs": [],
   "source": [
    "# Converting ' ?' values into nan\n",
    "data=pd.read_csv('income.csv',na_values=[' ?'])"
   ]
  },
  {
   "cell_type": "markdown",
   "metadata": {},
   "source": [
    "# Data Pre-Processing"
   ]
  },
  {
   "cell_type": "code",
   "execution_count": 12,
   "metadata": {},
   "outputs": [
    {
     "data": {
      "text/plain": [
       "age                 0\n",
       "JobType          1809\n",
       "EdType              0\n",
       "maritalstatus       0\n",
       "occupation       1816\n",
       "relationship        0\n",
       "race                0\n",
       "gender              0\n",
       "capitalgain         0\n",
       "capitalloss         0\n",
       "hoursperweek        0\n",
       "nativecountry       0\n",
       "SalStat             0\n",
       "dtype: int64"
      ]
     },
     "execution_count": 12,
     "metadata": {},
     "output_type": "execute_result"
    }
   ],
   "source": [
    "data.isnull().sum()"
   ]
  },
  {
   "cell_type": "markdown",
   "metadata": {},
   "source": [
    "**_There is missing values in JobType and occupation_**"
   ]
  },
  {
   "cell_type": "code",
   "execution_count": 13,
   "metadata": {},
   "outputs": [
    {
     "data": {
      "text/html": [
       "<div>\n",
       "<style scoped>\n",
       "    .dataframe tbody tr th:only-of-type {\n",
       "        vertical-align: middle;\n",
       "    }\n",
       "\n",
       "    .dataframe tbody tr th {\n",
       "        vertical-align: top;\n",
       "    }\n",
       "\n",
       "    .dataframe thead th {\n",
       "        text-align: right;\n",
       "    }\n",
       "</style>\n",
       "<table border=\"1\" class=\"dataframe\">\n",
       "  <thead>\n",
       "    <tr style=\"text-align: right;\">\n",
       "      <th></th>\n",
       "      <th>age</th>\n",
       "      <th>JobType</th>\n",
       "      <th>EdType</th>\n",
       "      <th>maritalstatus</th>\n",
       "      <th>occupation</th>\n",
       "      <th>relationship</th>\n",
       "      <th>race</th>\n",
       "      <th>gender</th>\n",
       "      <th>capitalgain</th>\n",
       "      <th>capitalloss</th>\n",
       "      <th>hoursperweek</th>\n",
       "      <th>nativecountry</th>\n",
       "      <th>SalStat</th>\n",
       "    </tr>\n",
       "  </thead>\n",
       "  <tbody>\n",
       "    <tr>\n",
       "      <th>8</th>\n",
       "      <td>17</td>\n",
       "      <td>NaN</td>\n",
       "      <td>11th</td>\n",
       "      <td>Never-married</td>\n",
       "      <td>NaN</td>\n",
       "      <td>Own-child</td>\n",
       "      <td>White</td>\n",
       "      <td>Female</td>\n",
       "      <td>0</td>\n",
       "      <td>0</td>\n",
       "      <td>5</td>\n",
       "      <td>United-States</td>\n",
       "      <td>less than or equal to 50,000</td>\n",
       "    </tr>\n",
       "    <tr>\n",
       "      <th>17</th>\n",
       "      <td>32</td>\n",
       "      <td>NaN</td>\n",
       "      <td>Some-college</td>\n",
       "      <td>Married-civ-spouse</td>\n",
       "      <td>NaN</td>\n",
       "      <td>Husband</td>\n",
       "      <td>White</td>\n",
       "      <td>Male</td>\n",
       "      <td>0</td>\n",
       "      <td>0</td>\n",
       "      <td>40</td>\n",
       "      <td>United-States</td>\n",
       "      <td>less than or equal to 50,000</td>\n",
       "    </tr>\n",
       "    <tr>\n",
       "      <th>29</th>\n",
       "      <td>22</td>\n",
       "      <td>NaN</td>\n",
       "      <td>Some-college</td>\n",
       "      <td>Never-married</td>\n",
       "      <td>NaN</td>\n",
       "      <td>Own-child</td>\n",
       "      <td>White</td>\n",
       "      <td>Male</td>\n",
       "      <td>0</td>\n",
       "      <td>0</td>\n",
       "      <td>40</td>\n",
       "      <td>United-States</td>\n",
       "      <td>less than or equal to 50,000</td>\n",
       "    </tr>\n",
       "    <tr>\n",
       "      <th>42</th>\n",
       "      <td>52</td>\n",
       "      <td>NaN</td>\n",
       "      <td>12th</td>\n",
       "      <td>Never-married</td>\n",
       "      <td>NaN</td>\n",
       "      <td>Other-relative</td>\n",
       "      <td>Black</td>\n",
       "      <td>Male</td>\n",
       "      <td>594</td>\n",
       "      <td>0</td>\n",
       "      <td>40</td>\n",
       "      <td>United-States</td>\n",
       "      <td>less than or equal to 50,000</td>\n",
       "    </tr>\n",
       "    <tr>\n",
       "      <th>44</th>\n",
       "      <td>63</td>\n",
       "      <td>NaN</td>\n",
       "      <td>1st-4th</td>\n",
       "      <td>Married-civ-spouse</td>\n",
       "      <td>NaN</td>\n",
       "      <td>Husband</td>\n",
       "      <td>White</td>\n",
       "      <td>Male</td>\n",
       "      <td>0</td>\n",
       "      <td>0</td>\n",
       "      <td>35</td>\n",
       "      <td>United-States</td>\n",
       "      <td>less than or equal to 50,000</td>\n",
       "    </tr>\n",
       "  </tbody>\n",
       "</table>\n",
       "</div>"
      ],
      "text/plain": [
       "    age JobType         EdType        maritalstatus occupation  \\\n",
       "8    17     NaN           11th        Never-married        NaN   \n",
       "17   32     NaN   Some-college   Married-civ-spouse        NaN   \n",
       "29   22     NaN   Some-college        Never-married        NaN   \n",
       "42   52     NaN           12th        Never-married        NaN   \n",
       "44   63     NaN        1st-4th   Married-civ-spouse        NaN   \n",
       "\n",
       "       relationship    race   gender  capitalgain  capitalloss  hoursperweek  \\\n",
       "8         Own-child   White   Female            0            0             5   \n",
       "17          Husband   White     Male            0            0            40   \n",
       "29        Own-child   White     Male            0            0            40   \n",
       "42   Other-relative   Black     Male          594            0            40   \n",
       "44          Husband   White     Male            0            0            35   \n",
       "\n",
       "     nativecountry                        SalStat  \n",
       "8    United-States   less than or equal to 50,000  \n",
       "17   United-States   less than or equal to 50,000  \n",
       "29   United-States   less than or equal to 50,000  \n",
       "42   United-States   less than or equal to 50,000  \n",
       "44   United-States   less than or equal to 50,000  "
      ]
     },
     "execution_count": 13,
     "metadata": {},
     "output_type": "execute_result"
    }
   ],
   "source": [
    "missing=data[data.isnull().any(axis=1)] \n",
    "# axis=1 => to consider atleast one column value is missing\n",
    "missing.head(5)"
   ]
  },
  {
   "cell_type": "code",
   "execution_count": 14,
   "metadata": {},
   "outputs": [],
   "source": [
    "data2=data.dropna(axis=0) # Dropping missing values"
   ]
  },
  {
   "cell_type": "code",
   "execution_count": 15,
   "metadata": {},
   "outputs": [
    {
     "data": {
      "text/plain": [
       "(31978, 13)"
      ]
     },
     "execution_count": 15,
     "metadata": {},
     "output_type": "execute_result"
    }
   ],
   "source": [
    "data.shape # Shape of data set before dropping missing value"
   ]
  },
  {
   "cell_type": "code",
   "execution_count": 16,
   "metadata": {},
   "outputs": [
    {
     "data": {
      "text/plain": [
       "(30162, 13)"
      ]
     },
     "execution_count": 16,
     "metadata": {},
     "output_type": "execute_result"
    }
   ],
   "source": [
    "data2.shape # Shape of data set after dropping missing value"
   ]
  },
  {
   "cell_type": "code",
   "execution_count": 17,
   "metadata": {},
   "outputs": [
    {
     "data": {
      "text/html": [
       "<div>\n",
       "<style scoped>\n",
       "    .dataframe tbody tr th:only-of-type {\n",
       "        vertical-align: middle;\n",
       "    }\n",
       "\n",
       "    .dataframe tbody tr th {\n",
       "        vertical-align: top;\n",
       "    }\n",
       "\n",
       "    .dataframe thead th {\n",
       "        text-align: right;\n",
       "    }\n",
       "</style>\n",
       "<table border=\"1\" class=\"dataframe\">\n",
       "  <thead>\n",
       "    <tr style=\"text-align: right;\">\n",
       "      <th></th>\n",
       "      <th>age</th>\n",
       "      <th>capitalgain</th>\n",
       "      <th>capitalloss</th>\n",
       "      <th>hoursperweek</th>\n",
       "    </tr>\n",
       "  </thead>\n",
       "  <tbody>\n",
       "    <tr>\n",
       "      <th>age</th>\n",
       "      <td>1.000000</td>\n",
       "      <td>0.080154</td>\n",
       "      <td>0.060165</td>\n",
       "      <td>0.101599</td>\n",
       "    </tr>\n",
       "    <tr>\n",
       "      <th>capitalgain</th>\n",
       "      <td>0.080154</td>\n",
       "      <td>1.000000</td>\n",
       "      <td>-0.032229</td>\n",
       "      <td>0.080432</td>\n",
       "    </tr>\n",
       "    <tr>\n",
       "      <th>capitalloss</th>\n",
       "      <td>0.060165</td>\n",
       "      <td>-0.032229</td>\n",
       "      <td>1.000000</td>\n",
       "      <td>0.052417</td>\n",
       "    </tr>\n",
       "    <tr>\n",
       "      <th>hoursperweek</th>\n",
       "      <td>0.101599</td>\n",
       "      <td>0.080432</td>\n",
       "      <td>0.052417</td>\n",
       "      <td>1.000000</td>\n",
       "    </tr>\n",
       "  </tbody>\n",
       "</table>\n",
       "</div>"
      ],
      "text/plain": [
       "                   age  capitalgain  capitalloss  hoursperweek\n",
       "age           1.000000     0.080154     0.060165      0.101599\n",
       "capitalgain   0.080154     1.000000    -0.032229      0.080432\n",
       "capitalloss   0.060165    -0.032229     1.000000      0.052417\n",
       "hoursperweek  0.101599     0.080432     0.052417      1.000000"
      ]
     },
     "execution_count": 17,
     "metadata": {},
     "output_type": "execute_result"
    }
   ],
   "source": [
    "# Relationship between independent variable\n",
    "correlation=data2.corr()\n",
    "correlation"
   ]
  },
  {
   "cell_type": "markdown",
   "metadata": {},
   "source": [
    "# Cross table and Data visualization"
   ]
  },
  {
   "cell_type": "code",
   "execution_count": 18,
   "metadata": {},
   "outputs": [
    {
     "data": {
      "text/plain": [
       "Index(['age', 'JobType', 'EdType', 'maritalstatus', 'occupation',\n",
       "       'relationship', 'race', 'gender', 'capitalgain', 'capitalloss',\n",
       "       'hoursperweek', 'nativecountry', 'SalStat'],\n",
       "      dtype='object')"
      ]
     },
     "execution_count": 18,
     "metadata": {},
     "output_type": "execute_result"
    }
   ],
   "source": [
    "data2.columns # Extracting the column names"
   ]
  },
  {
   "cell_type": "code",
   "execution_count": 19,
   "metadata": {},
   "outputs": [
    {
     "data": {
      "text/html": [
       "<div>\n",
       "<style scoped>\n",
       "    .dataframe tbody tr th:only-of-type {\n",
       "        vertical-align: middle;\n",
       "    }\n",
       "\n",
       "    .dataframe tbody tr th {\n",
       "        vertical-align: top;\n",
       "    }\n",
       "\n",
       "    .dataframe thead th {\n",
       "        text-align: right;\n",
       "    }\n",
       "</style>\n",
       "<table border=\"1\" class=\"dataframe\">\n",
       "  <thead>\n",
       "    <tr style=\"text-align: right;\">\n",
       "      <th>col_0</th>\n",
       "      <th>count</th>\n",
       "    </tr>\n",
       "    <tr>\n",
       "      <th>gender</th>\n",
       "      <th></th>\n",
       "    </tr>\n",
       "  </thead>\n",
       "  <tbody>\n",
       "    <tr>\n",
       "      <th>Female</th>\n",
       "      <td>0.324315</td>\n",
       "    </tr>\n",
       "    <tr>\n",
       "      <th>Male</th>\n",
       "      <td>0.675685</td>\n",
       "    </tr>\n",
       "  </tbody>\n",
       "</table>\n",
       "</div>"
      ],
      "text/plain": [
       "col_0       count\n",
       "gender           \n",
       " Female  0.324315\n",
       " Male    0.675685"
      ]
     },
     "execution_count": 19,
     "metadata": {},
     "output_type": "execute_result"
    }
   ],
   "source": [
    "# Gender Proportation table\n",
    "pd.crosstab(index=data2['gender'],columns='count',normalize=True)"
   ]
  },
  {
   "cell_type": "code",
   "execution_count": 20,
   "metadata": {},
   "outputs": [
    {
     "data": {
      "text/html": [
       "<div>\n",
       "<style scoped>\n",
       "    .dataframe tbody tr th:only-of-type {\n",
       "        vertical-align: middle;\n",
       "    }\n",
       "\n",
       "    .dataframe tbody tr th {\n",
       "        vertical-align: top;\n",
       "    }\n",
       "\n",
       "    .dataframe thead th {\n",
       "        text-align: right;\n",
       "    }\n",
       "</style>\n",
       "<table border=\"1\" class=\"dataframe\">\n",
       "  <thead>\n",
       "    <tr style=\"text-align: right;\">\n",
       "      <th>SalStat</th>\n",
       "      <th>greater than 50,000</th>\n",
       "      <th>less than or equal to 50,000</th>\n",
       "    </tr>\n",
       "    <tr>\n",
       "      <th>gender</th>\n",
       "      <th></th>\n",
       "      <th></th>\n",
       "    </tr>\n",
       "  </thead>\n",
       "  <tbody>\n",
       "    <tr>\n",
       "      <th>Female</th>\n",
       "      <td>0.113678</td>\n",
       "      <td>0.886322</td>\n",
       "    </tr>\n",
       "    <tr>\n",
       "      <th>Male</th>\n",
       "      <td>0.313837</td>\n",
       "      <td>0.686163</td>\n",
       "    </tr>\n",
       "    <tr>\n",
       "      <th>All</th>\n",
       "      <td>0.248922</td>\n",
       "      <td>0.751078</td>\n",
       "    </tr>\n",
       "  </tbody>\n",
       "</table>\n",
       "</div>"
      ],
      "text/plain": [
       "SalStat   greater than 50,000   less than or equal to 50,000\n",
       "gender                                                      \n",
       " Female              0.113678                       0.886322\n",
       " Male                0.313837                       0.686163\n",
       "All                  0.248922                       0.751078"
      ]
     },
     "execution_count": 20,
     "metadata": {},
     "output_type": "execute_result"
    }
   ],
   "source": [
    "# Gender vs Salary status\n",
    "pd.crosstab(index=data2['gender'],columns=data2['SalStat'],margins=True,normalize='index')"
   ]
  },
  {
   "cell_type": "code",
   "execution_count": 21,
   "metadata": {},
   "outputs": [
    {
     "data": {
      "text/plain": [
       "<matplotlib.axes._subplots.AxesSubplot at 0x31a0637ef0>"
      ]
     },
     "execution_count": 21,
     "metadata": {},
     "output_type": "execute_result"
    },
    {
     "data": {
      "image/png": "[encoded data removed]",
      "text/plain": [
       "<Figure size 432x288 with 1 Axes>"
      ]
     },
     "metadata": {
      "needs_background": "light"
     },
     "output_type": "display_data"
    }
   ],
   "source": [
    "# Frequency distribution of salary status\n",
    "sns.countplot(data2['SalStat'])"
   ]
  },
  {
   "cell_type": "markdown",
   "metadata": {},
   "source": [
    "**_75 % of peoples salary status is <=50,000_**"
   ]
  },
  {
   "cell_type": "code",
   "execution_count": 22,
   "metadata": {},
   "outputs": [
    {
     "data": {
      "text/plain": [
       "<matplotlib.axes._subplots.AxesSubplot at 0x31a10f0c50>"
      ]
     },
     "execution_count": 22,
     "metadata": {},
     "output_type": "execute_result"
    },
    {
     "data": {
      "image/png": "[encoded data removed]",
      "text/plain": [
       "<Figure size 432x288 with 1 Axes>"
      ]
     },
     "metadata": {
      "needs_background": "light"
     },
     "output_type": "display_data"
    }
   ],
   "source": [
    "sns.distplot(data2['age'],bins=10,kde=False) # Histogram of age"
   ]
  },
  {
   "cell_type": "markdown",
   "metadata": {},
   "source": [
    "**_People with 25 - 45 age are high in frequency_**"
   ]
  },
  {
   "cell_type": "code",
   "execution_count": 23,
   "metadata": {},
   "outputs": [
    {
     "data": {
      "text/plain": [
       "<matplotlib.axes._subplots.AxesSubplot at 0x31a01542e8>"
      ]
     },
     "execution_count": 23,
     "metadata": {},
     "output_type": "execute_result"
    },
    {
     "data": {
      "image/png": "[encoded data removed]",
      "text/plain": [
       "<Figure size 432x288 with 1 Axes>"
      ]
     },
     "metadata": {
      "needs_background": "light"
     },
     "output_type": "display_data"
    }
   ],
   "source": [
    "# Boxplot Age vs Salary Status\n",
    "sns.boxplot('SalStat','age',data=data2)"
   ]
  },
  {
   "cell_type": "markdown",
   "metadata": {},
   "source": [
    "**_People with 35 - 50 age are more likely to earn > 50,000 USD_**"
   ]
  },
  {
   "cell_type": "markdown",
   "metadata": {},
   "source": [
    "**_People with 25 - 35 age are more likely to earn <= 50,000 USD_**"
   ]
  },
  {
   "cell_type": "markdown",
   "metadata": {},
   "source": [
    "# Exploratory Data Analysis"
   ]
  },
  {
   "cell_type": "code",
   "execution_count": 24,
   "metadata": {},
   "outputs": [
    {
     "data": {
      "text/plain": [
       "<matplotlib.axes._subplots.AxesSubplot at 0x31a1207668>"
      ]
     },
     "execution_count": 24,
     "metadata": {},
     "output_type": "execute_result"
    },
    {
     "data": {
      "image/png": "[encoded data removed]",
      "text/plain": [
       "<Figure size 432x288 with 1 Axes>"
      ]
     },
     "metadata": {
      "needs_background": "light"
     },
     "output_type": "display_data"
    }
   ],
   "source": [
    "# Barplot JoType vs Salary Status\n",
    "sns.countplot(y='JobType',data=data2,hue='SalStat')"
   ]
  },
  {
   "cell_type": "markdown",
   "metadata": {},
   "source": [
    "**_Self-employed earns greater than 50,000 USD / year_**"
   ]
  },
  {
   "cell_type": "code",
   "execution_count": 25,
   "metadata": {},
   "outputs": [
    {
     "data": {
      "text/plain": [
       "<matplotlib.axes._subplots.AxesSubplot at 0x31a12b7a90>"
      ]
     },
     "execution_count": 25,
     "metadata": {},
     "output_type": "execute_result"
    },
    {
     "data": {
      "image/png": "[encoded data removed]",
      "text/plain": [
       "<Figure size 432x288 with 1 Axes>"
      ]
     },
     "metadata": {
      "needs_background": "light"
     },
     "output_type": "display_data"
    }
   ],
   "source": [
    "# Barplot Education vs Salary status\n",
    "sns.countplot(y='EdType',data=data2,hue='SalStat')"
   ]
  },
  {
   "cell_type": "markdown",
   "metadata": {},
   "source": [
    "**_Masters,Prof-school,Doctorate earns 50,000 USD / Year_**"
   ]
  },
  {
   "cell_type": "code",
   "execution_count": 26,
   "metadata": {},
   "outputs": [
    {
     "data": {
      "text/plain": [
       "<matplotlib.axes._subplots.AxesSubplot at 0x31a13712b0>"
      ]
     },
     "execution_count": 26,
     "metadata": {},
     "output_type": "execute_result"
    },
    {
     "data": {
      "image/png": "[encoded data removed]",
      "text/plain": [
       "<Figure size 432x288 with 1 Axes>"
      ]
     },
     "metadata": {
      "needs_background": "light"
     },
     "output_type": "display_data"
    }
   ],
   "source": [
    "# Barplot occupation vs Salary Status\n",
    "sns.countplot(y='occupation',data=data2,hue='SalStat')"
   ]
  },
  {
   "cell_type": "markdown",
   "metadata": {},
   "source": [
    "**_Pro-specialty and Exec-managerial are highly earns more than 50,000 USD / year_**"
   ]
  },
  {
   "cell_type": "code",
   "execution_count": 27,
   "metadata": {},
   "outputs": [
    {
     "data": {
      "text/plain": [
       "<matplotlib.axes._subplots.AxesSubplot at 0x31a1420470>"
      ]
     },
     "execution_count": 27,
     "metadata": {},
     "output_type": "execute_result"
    },
    {
     "data": {
      "image/png": "[encoded data removed]",
      "text/plain": [
       "<Figure size 432x288 with 1 Axes>"
      ]
     },
     "metadata": {
      "needs_background": "light"
     },
     "output_type": "display_data"
    }
   ],
   "source": [
    "# histogram for capital loss\n",
    "sns.distplot(data2['capitalloss'])"
   ]
  },
  {
   "cell_type": "markdown",
   "metadata": {},
   "source": [
    "**_95 % Capital loss is zero_**"
   ]
  },
  {
   "cell_type": "code",
   "execution_count": 28,
   "metadata": {},
   "outputs": [
    {
     "data": {
      "text/plain": [
       "<matplotlib.axes._subplots.AxesSubplot at 0x31a151be80>"
      ]
     },
     "execution_count": 28,
     "metadata": {},
     "output_type": "execute_result"
    },
    {
     "data": {
      "image/png": "[encoded data removed]",
      "text/plain": [
       "<Figure size 432x288 with 1 Axes>"
      ]
     },
     "metadata": {
      "needs_background": "light"
     },
     "output_type": "display_data"
    }
   ],
   "source": [
    "# Boxplot Salary Status vs Hours per week\n",
    "sns.boxplot(x=data2['SalStat'],y=data2['hoursperweek'])"
   ]
  },
  {
   "cell_type": "markdown",
   "metadata": {},
   "source": [
    "**_From the plot it is clearly visible that those who make more than 50,000 USD ? Year are more likely to spend 40-50 hours per week_**"
   ]
  },
  {
   "cell_type": "markdown",
   "metadata": {},
   "source": [
    "# Logistic Regression"
   ]
  },
  {
   "cell_type": "code",
   "execution_count": 29,
   "metadata": {},
   "outputs": [
    {
     "data": {
      "text/html": [
       "<div>\n",
       "<style scoped>\n",
       "    .dataframe tbody tr th:only-of-type {\n",
       "        vertical-align: middle;\n",
       "    }\n",
       "\n",
       "    .dataframe tbody tr th {\n",
       "        vertical-align: top;\n",
       "    }\n",
       "\n",
       "    .dataframe thead th {\n",
       "        text-align: right;\n",
       "    }\n",
       "</style>\n",
       "<table border=\"1\" class=\"dataframe\">\n",
       "  <thead>\n",
       "    <tr style=\"text-align: right;\">\n",
       "      <th></th>\n",
       "      <th>age</th>\n",
       "      <th>capitalgain</th>\n",
       "      <th>capitalloss</th>\n",
       "      <th>hoursperweek</th>\n",
       "      <th>JobType_ Local-gov</th>\n",
       "      <th>JobType_ Private</th>\n",
       "      <th>JobType_ Self-emp-inc</th>\n",
       "      <th>JobType_ Self-emp-not-inc</th>\n",
       "      <th>JobType_ State-gov</th>\n",
       "      <th>JobType_ Without-pay</th>\n",
       "      <th>...</th>\n",
       "      <th>nativecountry_ Puerto-Rico</th>\n",
       "      <th>nativecountry_ Scotland</th>\n",
       "      <th>nativecountry_ South</th>\n",
       "      <th>nativecountry_ Taiwan</th>\n",
       "      <th>nativecountry_ Thailand</th>\n",
       "      <th>nativecountry_ Trinadad&amp;Tobago</th>\n",
       "      <th>nativecountry_ United-States</th>\n",
       "      <th>nativecountry_ Vietnam</th>\n",
       "      <th>nativecountry_ Yugoslavia</th>\n",
       "      <th>SalStat_ less than or equal to 50,000</th>\n",
       "    </tr>\n",
       "  </thead>\n",
       "  <tbody>\n",
       "    <tr>\n",
       "      <th>0</th>\n",
       "      <td>45</td>\n",
       "      <td>0</td>\n",
       "      <td>0</td>\n",
       "      <td>28</td>\n",
       "      <td>0</td>\n",
       "      <td>1</td>\n",
       "      <td>0</td>\n",
       "      <td>0</td>\n",
       "      <td>0</td>\n",
       "      <td>0</td>\n",
       "      <td>...</td>\n",
       "      <td>0</td>\n",
       "      <td>0</td>\n",
       "      <td>0</td>\n",
       "      <td>0</td>\n",
       "      <td>0</td>\n",
       "      <td>0</td>\n",
       "      <td>1</td>\n",
       "      <td>0</td>\n",
       "      <td>0</td>\n",
       "      <td>1</td>\n",
       "    </tr>\n",
       "    <tr>\n",
       "      <th>1</th>\n",
       "      <td>24</td>\n",
       "      <td>0</td>\n",
       "      <td>0</td>\n",
       "      <td>40</td>\n",
       "      <td>0</td>\n",
       "      <td>0</td>\n",
       "      <td>0</td>\n",
       "      <td>0</td>\n",
       "      <td>0</td>\n",
       "      <td>0</td>\n",
       "      <td>...</td>\n",
       "      <td>0</td>\n",
       "      <td>0</td>\n",
       "      <td>0</td>\n",
       "      <td>0</td>\n",
       "      <td>0</td>\n",
       "      <td>0</td>\n",
       "      <td>1</td>\n",
       "      <td>0</td>\n",
       "      <td>0</td>\n",
       "      <td>1</td>\n",
       "    </tr>\n",
       "    <tr>\n",
       "      <th>2</th>\n",
       "      <td>44</td>\n",
       "      <td>0</td>\n",
       "      <td>0</td>\n",
       "      <td>40</td>\n",
       "      <td>0</td>\n",
       "      <td>1</td>\n",
       "      <td>0</td>\n",
       "      <td>0</td>\n",
       "      <td>0</td>\n",
       "      <td>0</td>\n",
       "      <td>...</td>\n",
       "      <td>0</td>\n",
       "      <td>0</td>\n",
       "      <td>0</td>\n",
       "      <td>0</td>\n",
       "      <td>0</td>\n",
       "      <td>0</td>\n",
       "      <td>1</td>\n",
       "      <td>0</td>\n",
       "      <td>0</td>\n",
       "      <td>0</td>\n",
       "    </tr>\n",
       "    <tr>\n",
       "      <th>3</th>\n",
       "      <td>27</td>\n",
       "      <td>0</td>\n",
       "      <td>0</td>\n",
       "      <td>40</td>\n",
       "      <td>0</td>\n",
       "      <td>1</td>\n",
       "      <td>0</td>\n",
       "      <td>0</td>\n",
       "      <td>0</td>\n",
       "      <td>0</td>\n",
       "      <td>...</td>\n",
       "      <td>0</td>\n",
       "      <td>0</td>\n",
       "      <td>0</td>\n",
       "      <td>0</td>\n",
       "      <td>0</td>\n",
       "      <td>0</td>\n",
       "      <td>0</td>\n",
       "      <td>0</td>\n",
       "      <td>0</td>\n",
       "      <td>1</td>\n",
       "    </tr>\n",
       "    <tr>\n",
       "      <th>4</th>\n",
       "      <td>20</td>\n",
       "      <td>0</td>\n",
       "      <td>0</td>\n",
       "      <td>35</td>\n",
       "      <td>0</td>\n",
       "      <td>1</td>\n",
       "      <td>0</td>\n",
       "      <td>0</td>\n",
       "      <td>0</td>\n",
       "      <td>0</td>\n",
       "      <td>...</td>\n",
       "      <td>0</td>\n",
       "      <td>0</td>\n",
       "      <td>0</td>\n",
       "      <td>0</td>\n",
       "      <td>0</td>\n",
       "      <td>0</td>\n",
       "      <td>1</td>\n",
       "      <td>0</td>\n",
       "      <td>0</td>\n",
       "      <td>1</td>\n",
       "    </tr>\n",
       "  </tbody>\n",
       "</table>\n",
       "<p>5 rows × 95 columns</p>\n",
       "</div>"
      ],
      "text/plain": [
       "   age  capitalgain  capitalloss  hoursperweek  JobType_ Local-gov  \\\n",
       "0   45            0            0            28                   0   \n",
       "1   24            0            0            40                   0   \n",
       "2   44            0            0            40                   0   \n",
       "3   27            0            0            40                   0   \n",
       "4   20            0            0            35                   0   \n",
       "\n",
       "   JobType_ Private  JobType_ Self-emp-inc  JobType_ Self-emp-not-inc  \\\n",
       "0                 1                      0                          0   \n",
       "1                 0                      0                          0   \n",
       "2                 1                      0                          0   \n",
       "3                 1                      0                          0   \n",
       "4                 1                      0                          0   \n",
       "\n",
       "   JobType_ State-gov  JobType_ Without-pay  ...  nativecountry_ Puerto-Rico  \\\n",
       "0                   0                     0  ...                           0   \n",
       "1                   0                     0  ...                           0   \n",
       "2                   0                     0  ...                           0   \n",
       "3                   0                     0  ...                           0   \n",
       "4                   0                     0  ...                           0   \n",
       "\n",
       "   nativecountry_ Scotland  nativecountry_ South  nativecountry_ Taiwan  \\\n",
       "0                        0                     0                      0   \n",
       "1                        0                     0                      0   \n",
       "2                        0                     0                      0   \n",
       "3                        0                     0                      0   \n",
       "4                        0                     0                      0   \n",
       "\n",
       "   nativecountry_ Thailand  nativecountry_ Trinadad&Tobago  \\\n",
       "0                        0                               0   \n",
       "1                        0                               0   \n",
       "2                        0                               0   \n",
       "3                        0                               0   \n",
       "4                        0                               0   \n",
       "\n",
       "   nativecountry_ United-States  nativecountry_ Vietnam  \\\n",
       "0                             1                       0   \n",
       "1                             1                       0   \n",
       "2                             1                       0   \n",
       "3                             0                       0   \n",
       "4                             1                       0   \n",
       "\n",
       "   nativecountry_ Yugoslavia  SalStat_ less than or equal to 50,000  \n",
       "0                          0                                      1  \n",
       "1                          0                                      1  \n",
       "2                          0                                      0  \n",
       "3                          0                                      1  \n",
       "4                          0                                      1  \n",
       "\n",
       "[5 rows x 95 columns]"
      ]
     },
     "execution_count": 29,
     "metadata": {},
     "output_type": "execute_result"
    }
   ],
   "source": [
    "# Getting dummi values for machine learning\n",
    "new_data=pd.get_dummies(data2,drop_first=True)\n",
    "new_data.head(5)"
   ]
  },
  {
   "cell_type": "code",
   "execution_count": 39,
   "metadata": {},
   "outputs": [
    {
     "data": {
      "text/plain": [
       "['age',\n",
       " 'capitalgain',\n",
       " 'capitalloss',\n",
       " 'hoursperweek',\n",
       " 'JobType_ Local-gov',\n",
       " 'JobType_ Private',\n",
       " 'JobType_ Self-emp-inc',\n",
       " 'JobType_ Self-emp-not-inc',\n",
       " 'JobType_ State-gov',\n",
       " 'JobType_ Without-pay',\n",
       " 'EdType_ 11th',\n",
       " 'EdType_ 12th',\n",
       " 'EdType_ 1st-4th',\n",
       " 'EdType_ 5th-6th',\n",
       " 'EdType_ 7th-8th',\n",
       " 'EdType_ 9th',\n",
       " 'EdType_ Assoc-acdm',\n",
       " 'EdType_ Assoc-voc',\n",
       " 'EdType_ Bachelors',\n",
       " 'EdType_ Doctorate',\n",
       " 'EdType_ HS-grad',\n",
       " 'EdType_ Masters',\n",
       " 'EdType_ Preschool',\n",
       " 'EdType_ Prof-school',\n",
       " 'EdType_ Some-college',\n",
       " 'maritalstatus_ Married-AF-spouse',\n",
       " 'maritalstatus_ Married-civ-spouse',\n",
       " 'maritalstatus_ Married-spouse-absent',\n",
       " 'maritalstatus_ Never-married',\n",
       " 'maritalstatus_ Separated',\n",
       " 'maritalstatus_ Widowed',\n",
       " 'occupation_ Armed-Forces',\n",
       " 'occupation_ Craft-repair',\n",
       " 'occupation_ Exec-managerial',\n",
       " 'occupation_ Farming-fishing',\n",
       " 'occupation_ Handlers-cleaners',\n",
       " 'occupation_ Machine-op-inspct',\n",
       " 'occupation_ Other-service',\n",
       " 'occupation_ Priv-house-serv',\n",
       " 'occupation_ Prof-specialty',\n",
       " 'occupation_ Protective-serv',\n",
       " 'occupation_ Sales',\n",
       " 'occupation_ Tech-support',\n",
       " 'occupation_ Transport-moving',\n",
       " 'relationship_ Not-in-family',\n",
       " 'relationship_ Other-relative',\n",
       " 'relationship_ Own-child',\n",
       " 'relationship_ Unmarried',\n",
       " 'relationship_ Wife',\n",
       " 'race_ Asian-Pac-Islander',\n",
       " 'race_ Black',\n",
       " 'race_ Other',\n",
       " 'race_ White',\n",
       " 'gender_ Male',\n",
       " 'nativecountry_ Canada',\n",
       " 'nativecountry_ China',\n",
       " 'nativecountry_ Columbia',\n",
       " 'nativecountry_ Cuba',\n",
       " 'nativecountry_ Dominican-Republic',\n",
       " 'nativecountry_ Ecuador',\n",
       " 'nativecountry_ El-Salvador',\n",
       " 'nativecountry_ England',\n",
       " 'nativecountry_ France',\n",
       " 'nativecountry_ Germany',\n",
       " 'nativecountry_ Greece',\n",
       " 'nativecountry_ Guatemala',\n",
       " 'nativecountry_ Haiti',\n",
       " 'nativecountry_ Holand-Netherlands',\n",
       " 'nativecountry_ Honduras',\n",
       " 'nativecountry_ Hong',\n",
       " 'nativecountry_ Hungary',\n",
       " 'nativecountry_ India',\n",
       " 'nativecountry_ Iran',\n",
       " 'nativecountry_ Ireland',\n",
       " 'nativecountry_ Italy',\n",
       " 'nativecountry_ Jamaica',\n",
       " 'nativecountry_ Japan',\n",
       " 'nativecountry_ Laos',\n",
       " 'nativecountry_ Mexico',\n",
       " 'nativecountry_ Nicaragua',\n",
       " 'nativecountry_ Outlying-US(Guam-USVI-etc)',\n",
       " 'nativecountry_ Peru',\n",
       " 'nativecountry_ Philippines',\n",
       " 'nativecountry_ Poland',\n",
       " 'nativecountry_ Portugal',\n",
       " 'nativecountry_ Puerto-Rico',\n",
       " 'nativecountry_ Scotland',\n",
       " 'nativecountry_ South',\n",
       " 'nativecountry_ Taiwan',\n",
       " 'nativecountry_ Thailand',\n",
       " 'nativecountry_ Trinadad&Tobago',\n",
       " 'nativecountry_ United-States',\n",
       " 'nativecountry_ Vietnam',\n",
       " 'nativecountry_ Yugoslavia',\n",
       " 'SalStat_ less than or equal to 50,000']"
      ]
     },
     "execution_count": 39,
     "metadata": {},
     "output_type": "execute_result"
    }
   ],
   "source": [
    "# Storing the column names\n",
    "columns_list=list(new_data.columns)\n",
    "columns_list"
   ]
  },
  {
   "cell_type": "code",
   "execution_count": 40,
   "metadata": {},
   "outputs": [
    {
     "data": {
      "text/plain": [
       "['nativecountry_ United-States',\n",
       " 'JobType_ Private',\n",
       " 'gender_ Male',\n",
       " 'nativecountry_ Cuba',\n",
       " 'nativecountry_ Hungary',\n",
       " 'EdType_ Assoc-voc',\n",
       " 'nativecountry_ South',\n",
       " 'nativecountry_ Columbia',\n",
       " 'EdType_ HS-grad',\n",
       " 'EdType_ Prof-school',\n",
       " 'occupation_ Sales',\n",
       " 'race_ Other',\n",
       " 'relationship_ Other-relative',\n",
       " 'JobType_ Self-emp-inc',\n",
       " 'EdType_ Masters',\n",
       " 'EdType_ 11th',\n",
       " 'occupation_ Protective-serv',\n",
       " 'nativecountry_ Ecuador',\n",
       " 'nativecountry_ Greece',\n",
       " 'nativecountry_ Dominican-Republic',\n",
       " 'EdType_ 5th-6th',\n",
       " 'JobType_ Self-emp-not-inc',\n",
       " 'nativecountry_ Holand-Netherlands',\n",
       " 'nativecountry_ Trinadad&Tobago',\n",
       " 'nativecountry_ Germany',\n",
       " 'nativecountry_ Mexico',\n",
       " 'race_ Black',\n",
       " 'occupation_ Other-service',\n",
       " 'nativecountry_ Italy',\n",
       " 'relationship_ Wife',\n",
       " 'nativecountry_ England',\n",
       " 'EdType_ Some-college',\n",
       " 'nativecountry_ France',\n",
       " 'EdType_ Preschool',\n",
       " 'nativecountry_ Hong',\n",
       " 'occupation_ Prof-specialty',\n",
       " 'nativecountry_ China',\n",
       " 'nativecountry_ Taiwan',\n",
       " 'EdType_ 9th',\n",
       " 'JobType_ State-gov',\n",
       " 'EdType_ 7th-8th',\n",
       " 'SalStat_ less than or equal to 50,000',\n",
       " 'relationship_ Own-child',\n",
       " 'nativecountry_ Yugoslavia',\n",
       " 'nativecountry_ Haiti',\n",
       " 'maritalstatus_ Widowed',\n",
       " 'capitalgain',\n",
       " 'JobType_ Without-pay',\n",
       " 'occupation_ Exec-managerial',\n",
       " 'nativecountry_ Honduras',\n",
       " 'nativecountry_ India',\n",
       " 'occupation_ Transport-moving',\n",
       " 'occupation_ Tech-support',\n",
       " 'race_ Asian-Pac-Islander',\n",
       " 'nativecountry_ Canada',\n",
       " 'maritalstatus_ Married-AF-spouse',\n",
       " 'nativecountry_ Peru',\n",
       " 'nativecountry_ Thailand',\n",
       " 'EdType_ Doctorate',\n",
       " 'nativecountry_ El-Salvador',\n",
       " 'nativecountry_ Japan',\n",
       " 'age',\n",
       " 'occupation_ Craft-repair',\n",
       " 'occupation_ Priv-house-serv',\n",
       " 'nativecountry_ Outlying-US(Guam-USVI-etc)',\n",
       " 'occupation_ Machine-op-inspct',\n",
       " 'nativecountry_ Nicaragua',\n",
       " 'JobType_ Local-gov',\n",
       " 'EdType_ Bachelors',\n",
       " 'relationship_ Unmarried',\n",
       " 'occupation_ Armed-Forces',\n",
       " 'nativecountry_ Laos',\n",
       " 'nativecountry_ Guatemala',\n",
       " 'nativecountry_ Vietnam',\n",
       " 'occupation_ Farming-fishing',\n",
       " 'nativecountry_ Philippines',\n",
       " 'maritalstatus_ Never-married',\n",
       " 'maritalstatus_ Separated',\n",
       " 'relationship_ Not-in-family',\n",
       " 'nativecountry_ Puerto-Rico',\n",
       " 'nativecountry_ Portugal',\n",
       " 'nativecountry_ Ireland',\n",
       " 'EdType_ Assoc-acdm',\n",
       " 'capitalloss',\n",
       " 'maritalstatus_ Married-spouse-absent',\n",
       " 'nativecountry_ Iran',\n",
       " 'EdType_ 1st-4th',\n",
       " 'maritalstatus_ Married-civ-spouse',\n",
       " 'hoursperweek',\n",
       " 'occupation_ Handlers-cleaners',\n",
       " 'nativecountry_ Jamaica',\n",
       " 'nativecountry_ Poland',\n",
       " 'nativecountry_ Scotland',\n",
       " 'race_ White',\n",
       " 'EdType_ 12th']"
      ]
     },
     "execution_count": 40,
     "metadata": {},
     "output_type": "execute_result"
    }
   ],
   "source": [
    "# seperating the input names from the data\n",
    "features=list(set(columns_list)-set(['SalStat']))\n",
    "features"
   ]
  },
  {
   "cell_type": "code",
   "execution_count": 47,
   "metadata": {},
   "outputs": [
    {
     "data": {
      "text/plain": [
       "array([1, 1, 0, ..., 1, 1, 1], dtype=uint8)"
      ]
     },
     "execution_count": 47,
     "metadata": {},
     "output_type": "execute_result"
    }
   ],
   "source": [
    "# Storing the output variables in y\n",
    "y=new_data['SalStat_ less than or equal to 50,000'].values\n",
    "y"
   ]
  },
  {
   "cell_type": "code",
   "execution_count": 48,
   "metadata": {},
   "outputs": [
    {
     "data": {
      "text/plain": [
       "array([[1, 1, 0, ..., 0, 1, 0],\n",
       "       [1, 0, 1, ..., 0, 1, 0],\n",
       "       [1, 1, 1, ..., 0, 1, 0],\n",
       "       ...,\n",
       "       [1, 1, 1, ..., 0, 1, 0],\n",
       "       [1, 0, 0, ..., 0, 1, 0],\n",
       "       [1, 1, 1, ..., 0, 1, 0]], dtype=int64)"
      ]
     },
     "execution_count": 48,
     "metadata": {},
     "output_type": "execute_result"
    }
   ],
   "source": [
    "# Storing the values from input features\n",
    "x=new_data[features].values\n",
    "x"
   ]
  },
  {
   "cell_type": "code",
   "execution_count": 49,
   "metadata": {},
   "outputs": [],
   "source": [
    "# Splitting the data set into train and test\n",
    "train_x,test_x,train_y,test_y=train_test_split(x,y,test_size=0.3,random_state=0)"
   ]
  },
  {
   "cell_type": "code",
   "execution_count": 73,
   "metadata": {},
   "outputs": [],
   "source": [
    "# Make instance of the model\n",
    "logistic=LogisticRegression(solver='liblinear')"
   ]
  },
  {
   "cell_type": "code",
   "execution_count": 74,
   "metadata": {},
   "outputs": [
    {
     "data": {
      "text/plain": [
       "LogisticRegression(C=1.0, class_weight=None, dual=False, fit_intercept=True,\n",
       "                   intercept_scaling=1, l1_ratio=None, max_iter=100,\n",
       "                   multi_class='warn', n_jobs=None, penalty='l2',\n",
       "                   random_state=None, solver='liblinear', tol=0.0001, verbose=0,\n",
       "                   warm_start=False)"
      ]
     },
     "execution_count": 74,
     "metadata": {},
     "output_type": "execute_result"
    }
   ],
   "source": [
    "# fitting the values for x and y\n",
    "logistic.fit(train_x,train_y)"
   ]
  },
  {
   "cell_type": "code",
   "execution_count": 79,
   "metadata": {},
   "outputs": [
    {
     "data": {
      "text/plain": [
       "array([1, 1, 1, ..., 1, 1, 1], dtype=uint8)"
      ]
     },
     "execution_count": 79,
     "metadata": {},
     "output_type": "execute_result"
    }
   ],
   "source": [
    "# Predicting test_x \n",
    "prediction=logistic.predict(test_x)\n",
    "prediction"
   ]
  },
  {
   "cell_type": "code",
   "execution_count": 76,
   "metadata": {},
   "outputs": [
    {
     "data": {
      "text/plain": [
       "1.0"
      ]
     },
     "execution_count": 76,
     "metadata": {},
     "output_type": "execute_result"
    }
   ],
   "source": [
    "# Accuracy of this model\n",
    "accuracy=accuracy_score(test_y,prediction)\n",
    "accuracy"
   ]
  },
  {
   "cell_type": "code",
   "execution_count": 78,
   "metadata": {},
   "outputs": [
    {
     "name": "stdout",
     "output_type": "stream",
     "text": [
      "Missclassified samples:0\n"
     ]
    }
   ],
   "source": [
    "# Miss Classified Sample\n",
    "print('Missclassified samples:%d'%(test_y!=prediction).sum())"
   ]
  }
 ],
 "metadata": {
  "kernelspec": {
   "display_name": "Python 3",
   "language": "python",
   "name": "python3"
  },
  "language_info": {
   "codemirror_mode": {
    "name": "ipython",
    "version": 3
   },
   "file_extension": ".py",
   "mimetype": "text/x-python",
   "name": "python",
   "nbconvert_exporter": "python",
   "pygments_lexer": "ipython3",
   "version": "3.7.3"
  }
 },
 "nbformat": 4,
 "nbformat_minor": 2
}
